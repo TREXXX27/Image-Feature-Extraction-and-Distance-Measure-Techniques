{
 "cells": [
  {
   "cell_type": "markdown",
   "id": "c63774b2-52e3-495c-b3dd-c2723a997453",
   "metadata": {},
   "source": [
    "# TASK 0: LOADING DATA"
   ]
  },
  {
   "cell_type": "code",
   "execution_count": 16,
   "id": "dfe67bbd-3347-435c-99bf-ad492ff7389a",
   "metadata": {},
   "outputs": [],
   "source": [
    "#Imports\n",
    "import cv2\n",
    "import numpy\n",
    "import glob\n",
    "from PIL import Image\n",
    "import matplotlib.pyplot as plt\n",
    "from natsort import natsorted\n",
    "import scipy.stats as stats\n",
    "import sys\n",
    "import csv\n",
    "from skimage.transform import rotate\n",
    "from skimage.feature import local_binary_pattern\n",
    "from scipy.spatial.distance import cityblock\n",
    "import skimage\n",
    "from skimage.io import imread\n",
    "from skimage.transform import resize\n",
    "from skimage.feature import hog\n",
    "\n",
    "#Maximise output display size\n",
    "numpy.set_printoptions(threshold=sys.maxsize)\n"
   ]
  },
  {
   "cell_type": "code",
   "execution_count": 17,
   "id": "825c470e-a444-447f-978d-6f77735b665e",
   "metadata": {},
   "outputs": [],
   "source": [
    "#FUnction to create dictionary containing Index and corresponding image path\n",
    "def load_folder(path):\n",
    "    list_names=[]\n",
    "    n_images=0                                                            #Number of images in folder\n",
    "    \n",
    "    for filename in glob.glob(path):          \n",
    "        n_images+=1\n",
    "        list_names.append(filename)\n",
    "    list_names = natsorted(list_names)                                    #Sort list_names\n",
    "    \n",
    "    ID = {}                                                               #Dictionary with Image Index and Image Path.\n",
    "    i=0\n",
    "    for imagenames in list_names:\n",
    "        ID[i] = imagenames\n",
    "        i+=1\n",
    "    \n",
    "    images = numpy.zeros((n_images,64,64))\n",
    "    k=0\n",
    "\n",
    "    #Storing image_data in array.\n",
    "    for filename in list_names:\n",
    "        images[k] = cv2.imread(filename,0)\n",
    "        k +=1\n",
    "        \n",
    "    images = numpy.true_divide(images,255)                                 # Pixel value range conversion from (0-255) TO (0-1)\n",
    "    #plt.imshow(images[0], cmap='gray', vmin=0, vmax=1)\n",
    "    #plt.show()\n",
    "    \n",
    "    return n_images,images,list_names,ID\n"
   ]
  },
  {
   "cell_type": "markdown",
   "id": "d57233e3-b237-4b0b-b4f3-f4cdb0c5307b",
   "metadata": {},
   "source": [
    "# TASK 1,2: EXTRACTING FEATURES\n",
    "\n",
    "#### COLOR MOMENTS"
   ]
  },
  {
   "cell_type": "code",
   "execution_count": 18,
   "id": "5e57132a-0e53-439c-a01f-31eb125a37e8",
   "metadata": {},
   "outputs": [],
   "source": [
    "# Function to split image from 64*64 to 8*8.\n",
    "def split_img(arr, nrows, ncols):\n",
    "    \"\"\"\n",
    "    Return an array of shape (n, nrows, ncols) where\n",
    "    n * nrows * ncols = arr.size\n",
    "\n",
    "    If arr is a 2D array, the returned array should look like n subblocks with\n",
    "    each subblock preserving the \"physical\" layout of arr.\n",
    "    \"\"\"\n",
    "    h, w = arr.shape\n",
    "    assert h % nrows == 0, \"{} rows is not evenly divisble by {}\".format(h, nrows)\n",
    "    assert w % ncols == 0, \"{} cols is not evenly divisble by {}\".format(w, ncols)\n",
    "    return (arr.reshape(h//nrows, nrows, -1, ncols)\n",
    "               .swapaxes(1,2)\n",
    "               .reshape(-1, nrows, ncols))"
   ]
  },
  {
   "cell_type": "code",
   "execution_count": 19,
   "id": "04e7a380-36e7-45a6-a12a-3a6794e64b88",
   "metadata": {},
   "outputs": [],
   "source": [
    "#Function to calculate standard deviation (p=2) and skewness (p=3)\n",
    "def func(p,arr,mean):\n",
    "    s = 0\n",
    "    for i in range(len(arr)):\n",
    "        for j in range(len(arr[i])):\n",
    "            s += pow((arr[i][j] - mean),p)\n",
    "    out = s/(len(arr)*len(arr[0]))\n",
    "    d = 1.0/p\n",
    "    if(out<0):\n",
    "        out = abs(out);\n",
    "        out = pow(out,d)\n",
    "        out = -1*out\n",
    "    else:\n",
    "        out = pow(out,d)\n",
    "    return out"
   ]
  },
  {
   "cell_type": "code",
   "execution_count": 20,
   "id": "ea2a4a20-16ff-4070-9e7f-91e2fa1f3c18",
   "metadata": {},
   "outputs": [],
   "source": [
    "# Extracting color moments for images.\n",
    "def c_moment(n_images,images):\n",
    "    \n",
    "    #Function call to split images.\n",
    "    split_images =  numpy.zeros((n_images,64,8,8))\n",
    "    for i in range(n_images):\n",
    "        split_images[i] = split_img(images[i], 8, 8)\n",
    "    \n",
    "    \n",
    "    cm_mean = numpy.zeros((n_images,64))\n",
    "    cm_std_dev = numpy.zeros((n_images,64))\n",
    "    cm_std_dev_1 = numpy.zeros((n_images,64))\n",
    "    cm_skew = numpy.zeros((n_images,64))\n",
    "    cm_vector = numpy.zeros((n_images,64,3))\n",
    "    \n",
    "    \n",
    "    for i in range(len(split_images)):\n",
    "        for j in range(len(split_images[i])):\n",
    "            cm_mean[i][j] = numpy.mean(split_images[i][j])\n",
    "            cm_std_dev[i][j] = func(2,split_images[i][j],cm_mean[i][j])\n",
    "            cm_skew[i][j] = func(3,split_images[i][j],cm_mean[i][j])\n",
    "    \n",
    "    #Combining all features into one feature vector.\n",
    "    for i in range(len(split_images)):\n",
    "        for j in range(len(split_images[i])):\n",
    "            for  k in range(3):\n",
    "                if (k==0):\n",
    "                    cm_vector[i][j][k] = cm_mean[i][j]\n",
    "                elif(k==1):\n",
    "                    cm_vector[i][j][k] = cm_std_dev[i][j]\n",
    "                else:\n",
    "                    cm_vector[i][j][k] = cm_skew[i][j]\n",
    "    return cm_vector,cm_mean,cm_std_dev,cm_skew\n"
   ]
  },
  {
   "cell_type": "markdown",
   "id": "c582e2a5-ee34-46f4-9cf5-8a817177dd76",
   "metadata": {},
   "source": [
    "#### LOCAL BINARY PATTERNS"
   ]
  },
  {
   "cell_type": "code",
   "execution_count": 21,
   "id": "fddc93c8-d13d-4b24-b327-b2dde333caf2",
   "metadata": {},
   "outputs": [],
   "source": [
    "#Function to generate lbp vector for images. \n",
    "def elbpattern (n_images,images):\n",
    "    # settings for LBP\n",
    "    radius = 1\n",
    "    n_points = 8\n",
    "    METHOD = 'uniform'\n",
    "    \n",
    "    lbp_v= numpy.zeros((n_images,64,64))\n",
    "    i=0\n",
    "    for image in images:\n",
    "        lbp = local_binary_pattern(image,n_points, radius, METHOD)\n",
    "        lbp_v[i] = lbp\n",
    "        i+=1\n",
    "        #plt.imshow(lbp)\n",
    "        #plt.show()\n",
    "    return lbp_v"
   ]
  },
  {
   "cell_type": "markdown",
   "id": "51621d48-b3bc-427a-92ae-149a88cfcd26",
   "metadata": {},
   "source": [
    "#### HISTOGRAM OF ORIENTED GRADIENTS"
   ]
  },
  {
   "cell_type": "code",
   "execution_count": 22,
   "id": "35b883f4-80f6-472f-a292-b33fc87eedba",
   "metadata": {},
   "outputs": [],
   "source": [
    "#Function to generate HOG vector for images. \n",
    "def hog_feature(images):\n",
    "    hog_v= numpy.zeros((n_images,3780))\n",
    "    i=0\n",
    "    for image in images:\n",
    "        resized_img = resize(image, (128, 64))\n",
    "        plt.axis(\"off\")\n",
    "        fd = hog(resized_img, orientations=9, pixels_per_cell=(8, 8),cells_per_block=(2, 2), multichannel=False, visualize=False,block_norm='L2-Hys')\n",
    "        hog_v[i]= fd\n",
    "        i+=1\n",
    "    return hog_v"
   ]
  },
  {
   "cell_type": "code",
   "execution_count": 23,
   "id": "3c010a9e-047c-4ede-9aea-5885b9966385",
   "metadata": {},
   "outputs": [],
   "source": [
    "def calculate_features (n_images,images):\n",
    "\n",
    "    cm_v,cm_mean,cm_std_dev,cm_skew = c_moment(n_images,images)\n",
    "    #print(cm_v)\n",
    "    \n",
    "    lbp_v = elbpattern(n_images,images)\n",
    "    #print(lbp_v)\n",
    "\n",
    "    #Function call\n",
    "    hog_v = hog_feature(images)\n",
    "    #print(hog_v)\n",
    "    \n",
    "    return cm_mean,cm_std_dev,cm_skew,cm_v,lbp_v,hog_v\n",
    "    \n",
    "    \n",
    "    \n",
    "    "
   ]
  },
  {
   "cell_type": "code",
   "execution_count": 35,
   "id": "772e950a-ed84-49fe-9bd3-ef1d321f1e66",
   "metadata": {},
   "outputs": [
    {
     "data": {
      "image/png": "[encoded data removed]",
      "text/plain": [
       "<Figure size 432x288 with 1 Axes>"
      ]
     },
     "metadata": {
      "needs_background": "light"
     },
     "output_type": "display_data"
    }
   ],
   "source": [
    "#Input\n",
    "directory = '/home/shivam/Downloads/images/*.png'                         #Image folder path\n",
    "\n",
    "#Function call to create dictionary of image names.\n",
    "n_images,images,list_names,ID = load_folder(directory)\n",
    "#print(list_names)\n",
    "#print(ID)\n",
    "\n",
    "#Function call to calculate features\n",
    "cm_mean,cm_std_dev,cm_skew,cm_v,lbp_v,hog_v = calculate_features(n_images,images)\n",
    "\n"
   ]
  },
  {
   "cell_type": "code",
   "execution_count": 37,
   "id": "63709641-d101-42cb-9ef7-edd754fb797f",
   "metadata": {},
   "outputs": [],
   "source": [
    "#Print output to csv file\n",
    "\n",
    "f = open('/home/shivam/Downloads/output_Task2.csv', 'w')\n",
    "header=['Image ID','Image Path','Color Moment Vector','ELBP Vector','HOG Vector']\n",
    " \n",
    "writer = csv.writer(f)\n",
    " \n",
    "writer.writerow(header)\n",
    "for i in range(n_images):\n",
    "    dat=[i,ID[i],cm_v[i],lbp_v[i],hog_v[i]]\n",
    "    writer.writerow(dat)\n",
    " "
   ]
  },
  {
   "cell_type": "markdown",
   "id": "0b4985c9-f8b2-4fbe-b95c-cc47594aaae2",
   "metadata": {},
   "source": [
    "# TASK 3 and TASK 4: "
   ]
  },
  {
   "cell_type": "code",
   "execution_count": 26,
   "id": "2920389e-08e7-4f72-88db-42f21bd883e4",
   "metadata": {},
   "outputs": [],
   "source": [
    "#NOT USED\n",
    "#Euclidian distance for Color Moments\n",
    "def cm_dist_1(x,n_images,cm_mean,cm_std_dev,cm_skew,images):\n",
    "    \n",
    "    list_dict = {}\n",
    "\n",
    "    i=0\n",
    "    while True:\n",
    "        dist = numpy.linalg.norm(cm_mean[x] - cm_mean[i]) + numpy.linalg.norm(cm_std_dev[x] - cm_std_dev[i]) + numpy.linalg.norm(cm_skew[x] - cm_skew[i])\n",
    "        list_dict[i] = dist\n",
    "\n",
    "        i+=1\n",
    "        if(i>=n_images):\n",
    "            break\n",
    "    return list_dict\n",
    "    "
   ]
  },
  {
   "cell_type": "code",
   "execution_count": 27,
   "id": "dba07144-084a-487c-b427-e25c83a66ce7",
   "metadata": {},
   "outputs": [],
   "source": [
    "#Manhattan distance for Color Moments\n",
    "def cm_dist(x,n_images,cm_mean,cm_std_dev,cm_skew,images):\n",
    "    \n",
    "    list_dict = {}\n",
    "    i=0\n",
    "    while True:\n",
    "        dist = cityblock(cm_mean[x], cm_mean[i]) + cityblock(cm_std_dev[x], cm_std_dev[i]) + cityblock(cm_skew[x], cm_skew[i])\n",
    "        list_dict[i] = dist\n",
    "        i+=1\n",
    "\n",
    "        if(i>=n_images):\n",
    "            break\n",
    "    return list_dict"
   ]
  },
  {
   "cell_type": "code",
   "execution_count": 28,
   "id": "1f1576f9-ea35-4e79-93d1-5ff4172ff45b",
   "metadata": {},
   "outputs": [],
   "source": [
    "#Euclidian distance for ELBP\n",
    "def eu_dist(x,n_images,lbp_v,images):\n",
    "    \n",
    "    list_dict = {}\n",
    "\n",
    "    i=0\n",
    "    while True:\n",
    "        dist = numpy.linalg.norm(lbp_v[x] - lbp_v[i])\n",
    "        list_dict[i] = dist\n",
    "        i+=1\n",
    "        if(i>=n_images):\n",
    "            break\n",
    "    return list_dict"
   ]
  },
  {
   "cell_type": "code",
   "execution_count": 29,
   "id": "a3d59a81-29a7-4f91-858c-f2e52719b154",
   "metadata": {},
   "outputs": [],
   "source": [
    "#NOT USED\n",
    "#K-L Divergence For ELBP\n",
    "def kullback_leibler_divergence(p, q):\n",
    "    p = numpy.asarray(p)\n",
    "    q = numpy.asarray(q)\n",
    "    filt = numpy.logical_and(p != 0, q != 0)\n",
    "    return numpy.sum(p[filt] * numpy.log2(p[filt] / q[filt]))\n",
    "\n",
    "#Function to get match images using K-L divergence fucntion\n",
    "def eu_match(x,n_images,lbp_v,images):\n",
    "    \n",
    "    list_dict = {}\n",
    "    \n",
    "    best_score = 10\n",
    "    l = lbp_v[x]\n",
    "    n_b = int(l.max() + 1)\n",
    "    hist, _ = numpy.histogram(l, density=True, bins=n_b, range=(0, n_b))\n",
    "    i=0\n",
    "    while True:\n",
    "        lbp = lbp_v[i]\n",
    "        n_bins = int(lbp.max() + 1)\n",
    "        ref_hist, _ = numpy.histogram(lbp, density=True, bins=n_b, range=(0, n_bins))\n",
    "        score = kullback_leibler_divergence(hist, ref_hist)\n",
    "        list_dict[i] = score\n",
    "        i+=1\n",
    "        if(i>=n_images):\n",
    "            break\n",
    "    return list_dict\n"
   ]
  },
  {
   "cell_type": "code",
   "execution_count": 30,
   "id": "31573fa9-e0ac-4c23-a103-dec8751044be",
   "metadata": {},
   "outputs": [],
   "source": [
    "#Euclidian Distance for HOG\n",
    "def h_dist(x,n_images,hog_v,images):\n",
    "    \n",
    "    list_dict = {}\n",
    "    hog_vec = hog_v[x]\n",
    "    i=0\n",
    "    while True:\n",
    "        #print(ID[i])\n",
    "        dist = numpy.linalg.norm(hog_vec-hog_v[i])\n",
    "        #print(dist)\n",
    "        list_dict[i] = dist\n",
    "        i+=1\n",
    "\n",
    "        if(i>=n_images):\n",
    "            break\n",
    "    return list_dict"
   ]
  },
  {
   "cell_type": "code",
   "execution_count": 38,
   "id": "45caef33-74ef-40fa-833b-31c8a27b4564",
   "metadata": {},
   "outputs": [],
   "source": [
    "def task3_func(model,folder_path,k):                                      # K = NUMBER OF SIMILAR IMAGES REQUIRED. SHOULD BE LESS THAN NO OF IMAGES IN FOLDER.\n",
    "    n_images,images,list_names,ID = load_folder(folder_path)\n",
    "\n",
    "    #Function call to calculate features\n",
    "    cm_mean,cm_std_dev,cm_skew,cm_v,lbp_v,hog_v = calculate_features(n_images,images)\n",
    "    \n",
    "    x = 0\n",
    "    if model == \"color_moments\":\n",
    "        list_dict = cm_dist(x,n_images,cm_mean,cm_std_dev,cm_skew,images)\n",
    "    elif model == \"elbp\":\n",
    "        list_dict = eu_dist(x,n_images,lbp_v,images)\n",
    "    elif model == \"hog\":\n",
    "        list_dict = h_dist(x,n_images,hog_v,images)\n",
    "    else:\n",
    "        print(\"NO such feature\")\n",
    "    \n",
    "    list_dict = sorted(list_dict.items(), key =lambda x: x[1])\n",
    "    \n",
    "    #Print Output\n",
    "    print(\"The 4 similar images are : \")\n",
    "    for i in range(k):\n",
    "        print(\"Image_ID:\", list_dict[i+1][0], \"Score: \", (1/(1+(0.1*list_dict[i+1][1])))*100 , \"Image path:\" , list_names[list_dict[i+1][0]])\n",
    "                                                                     \n",
    "                                                                 \n",
    "                                                                    "
   ]
  },
  {
   "cell_type": "code",
   "execution_count": 39,
   "id": "055f64f3-eab0-455c-afd3-3243539891df",
   "metadata": {},
   "outputs": [
    {
     "name": "stdout",
     "output_type": "stream",
     "text": [
      "The 4 similar images are : \n",
      "Image_ID: 6 Score:  39.87889260221019 Image path: /home/shivam/Downloads/set3/image-70.png\n",
      "Image_ID: 10 Score:  39.75745415813881 Image path: /home/shivam/Downloads/set3/image-110.png\n",
      "Image_ID: 5 Score:  38.4467425744198 Image path: /home/shivam/Downloads/set3/image-60.png\n",
      "Image_ID: 8 Score:  37.977200948433484 Image path: /home/shivam/Downloads/set3/image-90.png\n",
      "------------------------------\n",
      "The 4 similar images are : \n",
      "Image_ID: 6 Score:  5.153845141018746 Image path: /home/shivam/Downloads/set3/image-70.png\n",
      "Image_ID: 8 Score:  5.153340040974886 Image path: /home/shivam/Downloads/set3/image-90.png\n",
      "Image_ID: 7 Score:  5.052473562771124 Image path: /home/shivam/Downloads/set3/image-80.png\n",
      "Image_ID: 10 Score:  5.048674401119299 Image path: /home/shivam/Downloads/set3/image-110.png\n",
      "------------------------------\n",
      "The 4 similar images are : \n",
      "Image_ID: 10 Score:  57.649982120666046 Image path: /home/shivam/Downloads/set3/image-110.png\n",
      "Image_ID: 12 Score:  57.29801715522831 Image path: /home/shivam/Downloads/set3/image-130.png\n",
      "Image_ID: 9 Score:  56.84868179581446 Image path: /home/shivam/Downloads/set3/image-100.png\n",
      "Image_ID: 11 Score:  56.70051410382448 Image path: /home/shivam/Downloads/set3/image-120.png\n"
     ]
    },
    {
     "data": {
      "image/png": "[encoded data removed]",
      "text/plain": [
       "<Figure size 432x288 with 1 Axes>"
      ]
     },
     "metadata": {
      "needs_background": "light"
     },
     "output_type": "display_data"
    }
   ],
   "source": [
    "#Print output for Task 3\n",
    "task3_func(\"color_moments\",'/home/shivam/Downloads/set3/*.png',4)\n",
    "print(\"------------------------------\")\n",
    "task3_func(\"elbp\",'/home/shivam/Downloads/set3/*.png',4)\n",
    "print(\"------------------------------\")\n",
    "task3_func(\"hog\",'/home/shivam/Downloads/set3/*.png',4)"
   ]
  },
  {
   "cell_type": "code",
   "execution_count": 40,
   "id": "b537bcab-70b5-4dac-b311-b723cbdd5006",
   "metadata": {},
   "outputs": [],
   "source": [
    "def task4_func(folder_path,k):                                 # K = NUMBER OF SIMILAR IMAGES REQUIRED. SHOULD BE LESS THAN NO OF IMAGES IN FOLDER.\n",
    "    \n",
    "    n_images,images,list_names,ID = load_folder(folder_path)\n",
    "\n",
    "    #Input\n",
    "    x = 0\n",
    "\n",
    "    #Function call to calculate features\n",
    "    cm_mean,cm_std_dev,cm_skew,cm_v,lbp_v,hog_v = calculate_features(n_images,images)\n",
    "    \n",
    "    list_dict_cm = cm_dist(x,n_images,cm_mean,cm_std_dev,cm_skew,images)\n",
    "    list_dict_lbp = eu_dist(x,n_images,lbp_v,images)\n",
    "    list_dict_hog = h_dist(x,n_images,hog_v,images)\n",
    "    \n",
    "    score_cm = numpy.zeros((n_images))\n",
    "    score_lbp = numpy.zeros((n_images))\n",
    "    score_hog= numpy.zeros((n_images))\n",
    "\n",
    "\n",
    "    for key,value in list_dict_cm.items():\n",
    "        score_cm[key] = value\n",
    "    \n",
    "    for key,value in list_dict_lbp.items():\n",
    "        score_lbp[key] += value\n",
    "    \n",
    "    for key,value in list_dict_hog.items():\n",
    "        score_hog[key] += value\n",
    "\n",
    "    # Calculating z scores.\n",
    "    score_cm_final = stats.zscore(score_cm)\n",
    "    score_lbp_final = stats.zscore(score_lbp)\n",
    "    score_hog_final = stats.zscore(score_hog)\n",
    "\n",
    "    score_final = {}\n",
    "    \n",
    "    #Weights\n",
    "    k1 = 0.2\n",
    "    k2 = 0.4\n",
    "    k3 = 0.4\n",
    "    \n",
    "    for i in range(n_images):\n",
    "        score_final[i] = k1*score_cm_final[i] + k2*score_lbp_final[i] + k3*score_hog_final[i]\n",
    "        \n",
    "    score_final = sorted(score_final.items(), key =lambda x: x[1])\n",
    "    \n",
    "    #Print Output\n",
    "    for i in range(k):\n",
    "        print(\"Image_ID:\", score_final[i+1][0], \"Score: \", (1/(1+score_final[i+1][1]))*50 , \"Image path:\" , list_names[score_final[i+1][0]])\n",
    "                                                              \n",
    "                                                                 \n",
    "                                                                    "
   ]
  },
  {
   "cell_type": "code",
   "execution_count": 41,
   "id": "acc877bf-72ac-479c-b591-2ac621a63f0b",
   "metadata": {},
   "outputs": [
    {
     "name": "stdout",
     "output_type": "stream",
     "text": [
      "Image_ID: 10 Score:  50.00552802447651 Image path: /home/shivam/Downloads/set3/image-110.png\n",
      "Image_ID: 6 Score:  46.05793625221136 Image path: /home/shivam/Downloads/set3/image-70.png\n",
      "Image_ID: 8 Score:  43.10319159344378 Image path: /home/shivam/Downloads/set3/image-90.png\n",
      "Image_ID: 9 Score:  40.2046757579851 Image path: /home/shivam/Downloads/set3/image-100.png\n"
     ]
    },
    {
     "data": {
      "image/png": "[encoded data removed]",
      "text/plain": [
       "<Figure size 432x288 with 1 Axes>"
      ]
     },
     "metadata": {
      "needs_background": "light"
     },
     "output_type": "display_data"
    }
   ],
   "source": [
    "#Print Output for Task 4\n",
    "task4_func('/home/shivam/Downloads/set3/*.png',4)\n"
   ]
  },
  {
   "cell_type": "code",
   "execution_count": 42,
   "id": "2292f4a7-32bb-414b-ae4a-997359dd130e",
   "metadata": {},
   "outputs": [
    {
     "name": "stdout",
     "output_type": "stream",
     "text": [
      "Note: you may need to restart the kernel to use updated packages.\n"
     ]
    }
   ],
   "source": [
    "pip freeze > requirements.txt"
   ]
  }
 ],
 "metadata": {
  "kernelspec": {
   "display_name": "Python 3",
   "language": "python",
   "name": "python3"
  },
  "language_info": {
   "codemirror_mode": {
    "name": "ipython",
    "version": 3
   },
   "file_extension": ".py",
   "mimetype": "text/x-python",
   "name": "python",
   "nbconvert_exporter": "python",
   "pygments_lexer": "ipython3",
   "version": "3.8.8"
  }
 },
 "nbformat": 4,
 "nbformat_minor": 5
}
